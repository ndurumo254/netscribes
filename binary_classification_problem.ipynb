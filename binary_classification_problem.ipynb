{
 "cells": [
  {
   "cell_type": "markdown",
   "id": "03f3a62b-ecd8-49dd-86f7-a5f8873c4621",
   "metadata": {},
   "source": [
    "# Medical Condition Prediction"
   ]
  },
  {
   "cell_type": "markdown",
   "id": "d912b71b-ce97-4fa3-ae88-bf06bf770279",
   "metadata": {
    "tags": []
   },
   "source": [
    " __Problem Statement__\n",
    " >The project will aim in predicting wether a person has or has not been diagnosed with one of three medical conditions (B, D,or G). The problem is a binary classification because we expect the outcome to be class1 or class 0\n",
    " \n",
    "__Objective__\n",
    ">The objective of this project is to create a model that can accurately predict whether a subject has or has not been diagnosed with one of three medical conditions"
   ]
  },
  {
   "cell_type": "markdown",
   "id": "fa2c8066-e6b6-427b-a730-0a10b65b1299",
   "metadata": {},
   "source": [
    "# Import the necessary libraries"
   ]
  },
  {
   "cell_type": "code",
   "execution_count": 462,
   "id": "b48fe163-337b-457b-882b-b92a26d5ea7e",
   "metadata": {
    "tags": []
   },
   "outputs": [],
   "source": [
    "import  pandas as pd\n",
    "import  pyspark.sql.functions as F\n",
    "from  pyspark.sql import SparkSession\n",
    "from  pyspark.sql.functions import isnan, when, count, col\n",
    "from  pyspark.ml.feature import StringIndexer, OneHotEncoder, VectorAssembler\n",
    "from  pyspark.ml.classification import RandomForestClassifier,LogisticRegression\n",
    "from  pyspark.ml.evaluation import BinaryClassificationEvaluator\n",
    "from  pyspark.ml import Pipeline\n",
    "from  pyspark.sql.functions import col"
   ]
  },
  {
   "cell_type": "markdown",
   "id": "e85a488c-991e-43ee-b223-41cceea1a075",
   "metadata": {
    "tags": []
   },
   "source": [
    " # Create a SparkSession"
   ]
  },
  {
   "cell_type": "code",
   "execution_count": 463,
   "id": "95af381d-7fee-4106-9e0c-3a6435c2695d",
   "metadata": {
    "tags": []
   },
   "outputs": [],
   "source": [
    "spark = SparkSession.builder.appName(\"MedicalConditionPrediction_Netscribes\")\\\n",
    "        .getOrCreate()\n",
    "sqlContext = SparkSession(spark)\n",
    "spark.sparkContext.setLogLevel(\"ERROR\")"
   ]
  },
  {
   "cell_type": "code",
   "execution_count": 464,
   "id": "225ecb53-99d9-4993-8993-a99e0f19a9ab",
   "metadata": {
    "tags": []
   },
   "outputs": [
    {
     "data": {
      "text/html": [
       "\n",
       "            <div>\n",
       "                <p><b>SparkSession - in-memory</b></p>\n",
       "                \n",
       "        <div>\n",
       "            <p><b>SparkContext</b></p>\n",
       "\n",
       "            <p><a href=\"http://14a793750edc:4040\">Spark UI</a></p>\n",
       "\n",
       "            <dl>\n",
       "              <dt>Version</dt>\n",
       "                <dd><code>v3.4.0</code></dd>\n",
       "              <dt>Master</dt>\n",
       "                <dd><code>local[*]</code></dd>\n",
       "              <dt>AppName</dt>\n",
       "                <dd><code>MedicalConditionPrediction_Netscribes</code></dd>\n",
       "            </dl>\n",
       "        </div>\n",
       "        \n",
       "            </div>\n",
       "        "
      ],
      "text/plain": [
       "<pyspark.sql.session.SparkSession at 0x7f549ce8db40>"
      ]
     },
     "execution_count": 464,
     "metadata": {},
     "output_type": "execute_result"
    }
   ],
   "source": [
    "spark"
   ]
  },
  {
   "cell_type": "markdown",
   "id": "400d9de0-516e-4cf0-b056-08ef75cc60c9",
   "metadata": {},
   "source": [
    "# Load the training data"
   ]
  },
  {
   "cell_type": "code",
   "execution_count": 465,
   "id": "2c38eb72-ad93-42c8-b6b2-68d7954851bc",
   "metadata": {
    "tags": []
   },
   "outputs": [],
   "source": [
    "train_data = spark.read.csv( \"train.csv\", header=True,  inferSchema=True )"
   ]
  },
  {
   "cell_type": "code",
   "execution_count": 466,
   "id": "8b6833f9-4422-4bf8-a2ed-e3c393f235a1",
   "metadata": {
    "tags": []
   },
   "outputs": [
    {
     "name": "stdout",
     "output_type": "stream",
     "text": [
      "root\n",
      " |-- Id: string (nullable = true)\n",
      " |-- AB: double (nullable = true)\n",
      " |-- AF: double (nullable = true)\n",
      " |-- AH: double (nullable = true)\n",
      " |-- AM: double (nullable = true)\n",
      " |-- AR: double (nullable = true)\n",
      " |-- AX: double (nullable = true)\n",
      " |-- AY: double (nullable = true)\n",
      " |-- AZ: double (nullable = true)\n",
      " |-- BC: double (nullable = true)\n",
      " |-- BD : double (nullable = true)\n",
      " |-- BN: double (nullable = true)\n",
      " |-- BP: double (nullable = true)\n",
      " |-- BQ: double (nullable = true)\n",
      " |-- BR: double (nullable = true)\n",
      " |-- BZ: double (nullable = true)\n",
      " |-- CB: double (nullable = true)\n",
      " |-- CC: double (nullable = true)\n",
      " |-- CD : double (nullable = true)\n",
      " |-- CF: double (nullable = true)\n",
      " |-- CH: double (nullable = true)\n",
      " |-- CL: double (nullable = true)\n",
      " |-- CR: double (nullable = true)\n",
      " |-- CS: double (nullable = true)\n",
      " |-- CU: double (nullable = true)\n",
      " |-- CW : double (nullable = true)\n",
      " |-- DA: double (nullable = true)\n",
      " |-- DE: double (nullable = true)\n",
      " |-- DF: double (nullable = true)\n",
      " |-- DH: double (nullable = true)\n",
      " |-- DI: double (nullable = true)\n",
      " |-- DL: double (nullable = true)\n",
      " |-- DN: double (nullable = true)\n",
      " |-- DU: double (nullable = true)\n",
      " |-- DV: double (nullable = true)\n",
      " |-- DY: double (nullable = true)\n",
      " |-- EB: double (nullable = true)\n",
      " |-- EE: double (nullable = true)\n",
      " |-- EG: double (nullable = true)\n",
      " |-- EH: double (nullable = true)\n",
      " |-- EJ: string (nullable = true)\n",
      " |-- EL: double (nullable = true)\n",
      " |-- EP: double (nullable = true)\n",
      " |-- EU: double (nullable = true)\n",
      " |-- FC: double (nullable = true)\n",
      " |-- FD : double (nullable = true)\n",
      " |-- FE: double (nullable = true)\n",
      " |-- FI: double (nullable = true)\n",
      " |-- FL: double (nullable = true)\n",
      " |-- FR: double (nullable = true)\n",
      " |-- FS: double (nullable = true)\n",
      " |-- GB: double (nullable = true)\n",
      " |-- GE: double (nullable = true)\n",
      " |-- GF: double (nullable = true)\n",
      " |-- GH: double (nullable = true)\n",
      " |-- GI: double (nullable = true)\n",
      " |-- GL: double (nullable = true)\n",
      " |-- Class: integer (nullable = true)\n",
      "\n"
     ]
    }
   ],
   "source": [
    "train_data.printSchema( )"
   ]
  },
  {
   "cell_type": "markdown",
   "id": "03731183-4605-490f-b4aa-c1b3ef2259aa",
   "metadata": {},
   "source": [
    "# Load  the  testing  data"
   ]
  },
  {
   "cell_type": "code",
   "execution_count": 467,
   "id": "74d28baf-f603-4361-bbdf-2e08cbc38e6c",
   "metadata": {
    "tags": []
   },
   "outputs": [],
   "source": [
    "test_data = spark.read.csv( \"test.csv\", header=True, inferSchema=True )"
   ]
  },
  {
   "cell_type": "code",
   "execution_count": 468,
   "id": "6b633270-3296-4226-b481-8d9d487585fc",
   "metadata": {
    "tags": []
   },
   "outputs": [
    {
     "name": "stdout",
     "output_type": "stream",
     "text": [
      "root\n",
      " |-- Id: string (nullable = true)\n",
      " |-- AB: double (nullable = true)\n",
      " |-- AF: double (nullable = true)\n",
      " |-- AH: double (nullable = true)\n",
      " |-- AM: double (nullable = true)\n",
      " |-- AR: double (nullable = true)\n",
      " |-- AX: double (nullable = true)\n",
      " |-- AY: double (nullable = true)\n",
      " |-- AZ: double (nullable = true)\n",
      " |-- BC: double (nullable = true)\n",
      " |-- BD : double (nullable = true)\n",
      " |-- BN: double (nullable = true)\n",
      " |-- BP: double (nullable = true)\n",
      " |-- BQ: double (nullable = true)\n",
      " |-- BR: double (nullable = true)\n",
      " |-- BZ: double (nullable = true)\n",
      " |-- CB: double (nullable = true)\n",
      " |-- CC: double (nullable = true)\n",
      " |-- CD : double (nullable = true)\n",
      " |-- CF: double (nullable = true)\n",
      " |-- CH: double (nullable = true)\n",
      " |-- CL: double (nullable = true)\n",
      " |-- CR: double (nullable = true)\n",
      " |-- CS: double (nullable = true)\n",
      " |-- CU: double (nullable = true)\n",
      " |-- CW : double (nullable = true)\n",
      " |-- DA: double (nullable = true)\n",
      " |-- DE: double (nullable = true)\n",
      " |-- DF: double (nullable = true)\n",
      " |-- DH: double (nullable = true)\n",
      " |-- DI: double (nullable = true)\n",
      " |-- DL: double (nullable = true)\n",
      " |-- DN: double (nullable = true)\n",
      " |-- DU: double (nullable = true)\n",
      " |-- DV: double (nullable = true)\n",
      " |-- DY: double (nullable = true)\n",
      " |-- EB: double (nullable = true)\n",
      " |-- EE: double (nullable = true)\n",
      " |-- EG: double (nullable = true)\n",
      " |-- EH: double (nullable = true)\n",
      " |-- EJ: string (nullable = true)\n",
      " |-- EL: double (nullable = true)\n",
      " |-- EP: double (nullable = true)\n",
      " |-- EU: double (nullable = true)\n",
      " |-- FC: double (nullable = true)\n",
      " |-- FD : double (nullable = true)\n",
      " |-- FE: double (nullable = true)\n",
      " |-- FI: double (nullable = true)\n",
      " |-- FL: double (nullable = true)\n",
      " |-- FR: double (nullable = true)\n",
      " |-- FS: double (nullable = true)\n",
      " |-- GB: double (nullable = true)\n",
      " |-- GE: double (nullable = true)\n",
      " |-- GF: double (nullable = true)\n",
      " |-- GH: double (nullable = true)\n",
      " |-- GI: double (nullable = true)\n",
      " |-- GL: double (nullable = true)\n",
      "\n"
     ]
    }
   ],
   "source": [
    "test_data.printSchema( )"
   ]
  },
  {
   "cell_type": "markdown",
   "id": "c2de9adb-8986-4ad7-8f55-b6c41a5326a9",
   "metadata": {},
   "source": [
    "# Load the Greeks data as metadata"
   ]
  },
  {
   "cell_type": "code",
   "execution_count": 469,
   "id": "a8bb192c-dd32-47c6-93f0-8cef1825681c",
   "metadata": {
    "tags": []
   },
   "outputs": [],
   "source": [
    "metadata = spark.read.csv(\"greeks.csv\", header=True, inferSchema=True)\n"
   ]
  },
  {
   "cell_type": "code",
   "execution_count": 470,
   "id": "c10e4dc2-4a7e-4300-81fa-e5542e7783e1",
   "metadata": {
    "tags": []
   },
   "outputs": [
    {
     "name": "stdout",
     "output_type": "stream",
     "text": [
      "root\n",
      " |-- Id: string (nullable = true)\n",
      " |-- Alpha: string (nullable = true)\n",
      " |-- Beta: string (nullable = true)\n",
      " |-- Gamma: string (nullable = true)\n",
      " |-- Delta: string (nullable = true)\n",
      " |-- Epsilon: string (nullable = true)\n",
      "\n"
     ]
    }
   ],
   "source": [
    "metadata.printSchema()"
   ]
  },
  {
   "cell_type": "markdown",
   "id": "a51dfdb4-b7a9-4af0-b14c-8ffb7af98905",
   "metadata": {},
   "source": [
    "# Join the metadata with the training data and test dataset"
   ]
  },
  {
   "cell_type": "code",
   "execution_count": 471,
   "id": "632db0e7-37ca-4484-97e9-fe8bed71642a",
   "metadata": {
    "tags": []
   },
   "outputs": [],
   "source": [
    "train_data_and_metadata = train_data.join(greeks_data, on='Id')\n",
    "#test_data_and_metadata = test_data.join(greeks_data, on='Id')"
   ]
  },
  {
   "cell_type": "code",
   "execution_count": 472,
   "id": "634f3a0f-26be-4d35-9785-afd32449009f",
   "metadata": {
    "tags": []
   },
   "outputs": [
    {
     "name": "stdout",
     "output_type": "stream",
     "text": [
      "root\n",
      " |-- Id: string (nullable = true)\n",
      " |-- AB: double (nullable = true)\n",
      " |-- AF: double (nullable = true)\n",
      " |-- AH: double (nullable = true)\n",
      " |-- AM: double (nullable = true)\n",
      " |-- AR: double (nullable = true)\n",
      " |-- AX: double (nullable = true)\n",
      " |-- AY: double (nullable = true)\n",
      " |-- AZ: double (nullable = true)\n",
      " |-- BC: double (nullable = true)\n",
      " |-- BD : double (nullable = true)\n",
      " |-- BN: double (nullable = true)\n",
      " |-- BP: double (nullable = true)\n",
      " |-- BQ: double (nullable = true)\n",
      " |-- BR: double (nullable = true)\n",
      " |-- BZ: double (nullable = true)\n",
      " |-- CB: double (nullable = true)\n",
      " |-- CC: double (nullable = true)\n",
      " |-- CD : double (nullable = true)\n",
      " |-- CF: double (nullable = true)\n",
      " |-- CH: double (nullable = true)\n",
      " |-- CL: double (nullable = true)\n",
      " |-- CR: double (nullable = true)\n",
      " |-- CS: double (nullable = true)\n",
      " |-- CU: double (nullable = true)\n",
      " |-- CW : double (nullable = true)\n",
      " |-- DA: double (nullable = true)\n",
      " |-- DE: double (nullable = true)\n",
      " |-- DF: double (nullable = true)\n",
      " |-- DH: double (nullable = true)\n",
      " |-- DI: double (nullable = true)\n",
      " |-- DL: double (nullable = true)\n",
      " |-- DN: double (nullable = true)\n",
      " |-- DU: double (nullable = true)\n",
      " |-- DV: double (nullable = true)\n",
      " |-- DY: double (nullable = true)\n",
      " |-- EB: double (nullable = true)\n",
      " |-- EE: double (nullable = true)\n",
      " |-- EG: double (nullable = true)\n",
      " |-- EH: double (nullable = true)\n",
      " |-- EJ: string (nullable = true)\n",
      " |-- EL: double (nullable = true)\n",
      " |-- EP: double (nullable = true)\n",
      " |-- EU: double (nullable = true)\n",
      " |-- FC: double (nullable = true)\n",
      " |-- FD : double (nullable = true)\n",
      " |-- FE: double (nullable = true)\n",
      " |-- FI: double (nullable = true)\n",
      " |-- FL: double (nullable = true)\n",
      " |-- FR: double (nullable = true)\n",
      " |-- FS: double (nullable = true)\n",
      " |-- GB: double (nullable = true)\n",
      " |-- GE: double (nullable = true)\n",
      " |-- GF: double (nullable = true)\n",
      " |-- GH: double (nullable = true)\n",
      " |-- GI: double (nullable = true)\n",
      " |-- GL: double (nullable = true)\n",
      " |-- Class: integer (nullable = true)\n",
      " |-- Alpha: string (nullable = true)\n",
      " |-- Beta: string (nullable = true)\n",
      " |-- Gamma: string (nullable = true)\n",
      " |-- Delta: string (nullable = true)\n",
      " |-- Epsilon: string (nullable = true)\n",
      "\n"
     ]
    }
   ],
   "source": [
    "train_data_and_metadata.printSchema()"
   ]
  },
  {
   "cell_type": "code",
   "execution_count": 473,
   "id": "6fb7e7c3-58f6-4244-8af8-faa7b781b530",
   "metadata": {
    "tags": []
   },
   "outputs": [
    {
     "data": {
      "text/html": [
       "<div>\n",
       "<style scoped>\n",
       "    .dataframe tbody tr th:only-of-type {\n",
       "        vertical-align: middle;\n",
       "    }\n",
       "\n",
       "    .dataframe tbody tr th {\n",
       "        vertical-align: top;\n",
       "    }\n",
       "\n",
       "    .dataframe thead th {\n",
       "        text-align: right;\n",
       "    }\n",
       "</style>\n",
       "<table border=\"1\" class=\"dataframe\">\n",
       "  <thead>\n",
       "    <tr style=\"text-align: right;\">\n",
       "      <th></th>\n",
       "      <th>Id</th>\n",
       "      <th>AB</th>\n",
       "      <th>AF</th>\n",
       "      <th>AH</th>\n",
       "      <th>AM</th>\n",
       "      <th>AR</th>\n",
       "      <th>AX</th>\n",
       "      <th>AY</th>\n",
       "      <th>AZ</th>\n",
       "      <th>BC</th>\n",
       "      <th>...</th>\n",
       "      <th>GF</th>\n",
       "      <th>GH</th>\n",
       "      <th>GI</th>\n",
       "      <th>GL</th>\n",
       "      <th>Class</th>\n",
       "      <th>Alpha</th>\n",
       "      <th>Beta</th>\n",
       "      <th>Gamma</th>\n",
       "      <th>Delta</th>\n",
       "      <th>Epsilon</th>\n",
       "    </tr>\n",
       "  </thead>\n",
       "  <tbody>\n",
       "    <tr>\n",
       "      <th>0</th>\n",
       "      <td>000ff2bfdfe9</td>\n",
       "      <td>0.209377</td>\n",
       "      <td>3109.03329</td>\n",
       "      <td>85.200147</td>\n",
       "      <td>22.394407</td>\n",
       "      <td>8.138688</td>\n",
       "      <td>0.699861</td>\n",
       "      <td>0.025578</td>\n",
       "      <td>9.812214</td>\n",
       "      <td>5.555634</td>\n",
       "      <td>...</td>\n",
       "      <td>2003.810319</td>\n",
       "      <td>22.136229</td>\n",
       "      <td>69.834944</td>\n",
       "      <td>0.120343</td>\n",
       "      <td>1</td>\n",
       "      <td>B</td>\n",
       "      <td>C</td>\n",
       "      <td>G</td>\n",
       "      <td>D</td>\n",
       "      <td>3/19/2019</td>\n",
       "    </tr>\n",
       "    <tr>\n",
       "      <th>1</th>\n",
       "      <td>007255e47698</td>\n",
       "      <td>0.145282</td>\n",
       "      <td>978.76416</td>\n",
       "      <td>85.200147</td>\n",
       "      <td>36.968889</td>\n",
       "      <td>8.138688</td>\n",
       "      <td>3.632190</td>\n",
       "      <td>0.025578</td>\n",
       "      <td>13.517790</td>\n",
       "      <td>1.229900</td>\n",
       "      <td>...</td>\n",
       "      <td>27981.562750</td>\n",
       "      <td>29.135430</td>\n",
       "      <td>32.131996</td>\n",
       "      <td>21.978000</td>\n",
       "      <td>0</td>\n",
       "      <td>A</td>\n",
       "      <td>C</td>\n",
       "      <td>M</td>\n",
       "      <td>B</td>\n",
       "      <td>Unknown</td>\n",
       "    </tr>\n",
       "    <tr>\n",
       "      <th>2</th>\n",
       "      <td>013f2bd269f5</td>\n",
       "      <td>0.470030</td>\n",
       "      <td>2635.10654</td>\n",
       "      <td>85.200147</td>\n",
       "      <td>32.360553</td>\n",
       "      <td>8.138688</td>\n",
       "      <td>6.732840</td>\n",
       "      <td>0.025578</td>\n",
       "      <td>12.824570</td>\n",
       "      <td>1.229900</td>\n",
       "      <td>...</td>\n",
       "      <td>13676.957810</td>\n",
       "      <td>28.022851</td>\n",
       "      <td>35.192676</td>\n",
       "      <td>0.196941</td>\n",
       "      <td>0</td>\n",
       "      <td>A</td>\n",
       "      <td>C</td>\n",
       "      <td>M</td>\n",
       "      <td>B</td>\n",
       "      <td>Unknown</td>\n",
       "    </tr>\n",
       "    <tr>\n",
       "      <th>3</th>\n",
       "      <td>043ac50845d5</td>\n",
       "      <td>0.252107</td>\n",
       "      <td>3819.65177</td>\n",
       "      <td>120.201618</td>\n",
       "      <td>77.112203</td>\n",
       "      <td>8.138688</td>\n",
       "      <td>3.685344</td>\n",
       "      <td>0.025578</td>\n",
       "      <td>11.053708</td>\n",
       "      <td>1.229900</td>\n",
       "      <td>...</td>\n",
       "      <td>2094.262452</td>\n",
       "      <td>39.948656</td>\n",
       "      <td>90.493248</td>\n",
       "      <td>0.155829</td>\n",
       "      <td>0</td>\n",
       "      <td>A</td>\n",
       "      <td>C</td>\n",
       "      <td>M</td>\n",
       "      <td>B</td>\n",
       "      <td>Unknown</td>\n",
       "    </tr>\n",
       "    <tr>\n",
       "      <th>4</th>\n",
       "      <td>044fb8a146ec</td>\n",
       "      <td>0.380297</td>\n",
       "      <td>3733.04844</td>\n",
       "      <td>85.200147</td>\n",
       "      <td>14.103738</td>\n",
       "      <td>8.138688</td>\n",
       "      <td>3.942255</td>\n",
       "      <td>0.054810</td>\n",
       "      <td>3.396778</td>\n",
       "      <td>102.151980</td>\n",
       "      <td>...</td>\n",
       "      <td>8524.370502</td>\n",
       "      <td>45.381316</td>\n",
       "      <td>36.262628</td>\n",
       "      <td>0.096614</td>\n",
       "      <td>1</td>\n",
       "      <td>D</td>\n",
       "      <td>B</td>\n",
       "      <td>F</td>\n",
       "      <td>B</td>\n",
       "      <td>3/25/2020</td>\n",
       "    </tr>\n",
       "  </tbody>\n",
       "</table>\n",
       "<p>5 rows × 63 columns</p>\n",
       "</div>"
      ],
      "text/plain": [
       "             Id        AB          AF          AH         AM        AR   \n",
       "0  000ff2bfdfe9  0.209377  3109.03329   85.200147  22.394407  8.138688  \\\n",
       "1  007255e47698  0.145282   978.76416   85.200147  36.968889  8.138688   \n",
       "2  013f2bd269f5  0.470030  2635.10654   85.200147  32.360553  8.138688   \n",
       "3  043ac50845d5  0.252107  3819.65177  120.201618  77.112203  8.138688   \n",
       "4  044fb8a146ec  0.380297  3733.04844   85.200147  14.103738  8.138688   \n",
       "\n",
       "         AX        AY         AZ          BC  ...            GF         GH   \n",
       "0  0.699861  0.025578   9.812214    5.555634  ...   2003.810319  22.136229  \\\n",
       "1  3.632190  0.025578  13.517790    1.229900  ...  27981.562750  29.135430   \n",
       "2  6.732840  0.025578  12.824570    1.229900  ...  13676.957810  28.022851   \n",
       "3  3.685344  0.025578  11.053708    1.229900  ...   2094.262452  39.948656   \n",
       "4  3.942255  0.054810   3.396778  102.151980  ...   8524.370502  45.381316   \n",
       "\n",
       "          GI         GL  Class  Alpha  Beta  Gamma  Delta    Epsilon  \n",
       "0  69.834944   0.120343      1      B     C      G      D  3/19/2019  \n",
       "1  32.131996  21.978000      0      A     C      M      B    Unknown  \n",
       "2  35.192676   0.196941      0      A     C      M      B    Unknown  \n",
       "3  90.493248   0.155829      0      A     C      M      B    Unknown  \n",
       "4  36.262628   0.096614      1      D     B      F      B  3/25/2020  \n",
       "\n",
       "[5 rows x 63 columns]"
      ]
     },
     "execution_count": 473,
     "metadata": {},
     "output_type": "execute_result"
    }
   ],
   "source": [
    "pd.DataFrame(train_data_and_metadata.take(5), columns=train_data_and_metadata.columns).head(5)"
   ]
  },
  {
   "cell_type": "code",
   "execution_count": 474,
   "id": "1b0d3e32-5cae-4974-8ace-c305b7ad2095",
   "metadata": {
    "tags": []
   },
   "outputs": [
    {
     "data": {
      "text/html": [
       "<div>\n",
       "<style scoped>\n",
       "    .dataframe tbody tr th:only-of-type {\n",
       "        vertical-align: middle;\n",
       "    }\n",
       "\n",
       "    .dataframe tbody tr th {\n",
       "        vertical-align: top;\n",
       "    }\n",
       "\n",
       "    .dataframe thead th {\n",
       "        text-align: right;\n",
       "    }\n",
       "</style>\n",
       "<table border=\"1\" class=\"dataframe\">\n",
       "  <thead>\n",
       "    <tr style=\"text-align: right;\">\n",
       "      <th></th>\n",
       "      <th>Id</th>\n",
       "      <th>AB</th>\n",
       "      <th>AF</th>\n",
       "      <th>AH</th>\n",
       "      <th>AM</th>\n",
       "      <th>AR</th>\n",
       "      <th>AX</th>\n",
       "      <th>AY</th>\n",
       "      <th>AZ</th>\n",
       "      <th>BC</th>\n",
       "      <th>...</th>\n",
       "      <th>GE</th>\n",
       "      <th>GF</th>\n",
       "      <th>GH</th>\n",
       "      <th>GI</th>\n",
       "      <th>GL</th>\n",
       "      <th>Alpha</th>\n",
       "      <th>Beta</th>\n",
       "      <th>Gamma</th>\n",
       "      <th>Delta</th>\n",
       "      <th>Epsilon</th>\n",
       "    </tr>\n",
       "  </thead>\n",
       "  <tbody>\n",
       "  </tbody>\n",
       "</table>\n",
       "<p>0 rows × 62 columns</p>\n",
       "</div>"
      ],
      "text/plain": [
       "Empty DataFrame\n",
       "Columns: [Id, AB, AF, AH, AM, AR, AX, AY, AZ, BC, BD , BN, BP, BQ, BR, BZ, CB, CC, CD , CF, CH, CL, CR, CS, CU, CW , DA, DE, DF, DH, DI, DL, DN, DU, DV, DY, EB, EE, EG, EH, EJ, EL, EP, EU, FC, FD , FE, FI, FL, FR, FS, GB, GE, GF, GH, GI, GL, Alpha, Beta, Gamma, Delta, Epsilon]\n",
       "Index: []\n",
       "\n",
       "[0 rows x 62 columns]"
      ]
     },
     "execution_count": 474,
     "metadata": {},
     "output_type": "execute_result"
    }
   ],
   "source": [
    "pd.DataFrame(test_data_and_metadata.take(5), columns=test_data_and_metadata.columns).head(5)"
   ]
  },
  {
   "cell_type": "code",
   "execution_count": 475,
   "id": "05f7fc4c-9132-4a9b-8707-0bfbb281d872",
   "metadata": {},
   "outputs": [
    {
     "name": "stdout",
     "output_type": "stream",
     "text": [
      "['Id', 'AB', 'AF', 'AH', 'AM', 'AR', 'AX', 'AY', 'AZ', 'BC', 'BD ', 'BN', 'BP', 'BQ', 'BR', 'BZ', 'CB', 'CC', 'CD ', 'CF', 'CH', 'CL', 'CR', 'CS', 'CU', 'CW ', 'DA', 'DE', 'DF', 'DH', 'DI', 'DL', 'DN', 'DU', 'DV', 'DY', 'EB', 'EE', 'EG', 'EH', 'EJ', 'EL', 'EP', 'EU', 'FC', 'FD ', 'FE', 'FI', 'FL', 'FR', 'FS', 'GB', 'GE', 'GF', 'GH', 'GI', 'GL', 'Class', 'Alpha', 'Beta', 'Gamma', 'Delta', 'Epsilon']\n"
     ]
    }
   ],
   "source": [
    "print(train_data_and_metadata.columns)\n"
   ]
  },
  {
   "cell_type": "markdown",
   "id": "569910c4-3e48-4f19-a580-608dccad0080",
   "metadata": {},
   "source": [
    "> some columns are not important during the model train. such columns will be dropped"
   ]
  },
  {
   "cell_type": "code",
   "execution_count": 476,
   "id": "c64c8a5c-49ca-43cd-b12b-d7f8e0878c5e",
   "metadata": {
    "tags": []
   },
   "outputs": [],
   "source": [
    "filtered_data=['AB', 'AF', 'AH', 'AM', 'AR', 'AX',\n",
    "               'AY', 'AZ', 'BC', 'BD ', 'BN', 'BP', 'BQ', \n",
    "               'BR', 'BZ', 'CB', 'CC', 'CD ', 'CF', 'CH',\n",
    "               'CL', 'CR', 'CS', 'CU', 'CW ', 'DA', 'DE',\n",
    "               'DF', 'DH', 'DI', 'DL', 'DN', 'DU', 'DV', \n",
    "               'DY', 'EB', 'EE', 'EG', 'EH', 'EJ', 'EL',\n",
    "               'EP', 'EU', 'FC', 'FD ', 'FE', 'FI', 'FL',\n",
    "               'FR', 'FS', 'GB', 'GE', 'GF', 'GH', 'GI', \n",
    "               'GL']+ [col for col in train_data_and_metadata.columns if col.startswith(\"Alpha\")] + [\"Class\"] \n",
    "train_data = train_data_and_metadata.select(*filtered_data)"
   ]
  },
  {
   "cell_type": "code",
   "execution_count": 477,
   "id": "50eee033-6f48-482b-84cb-6babb05d194d",
   "metadata": {
    "tags": []
   },
   "outputs": [
    {
     "data": {
      "text/html": [
       "<div>\n",
       "<style scoped>\n",
       "    .dataframe tbody tr th:only-of-type {\n",
       "        vertical-align: middle;\n",
       "    }\n",
       "\n",
       "    .dataframe tbody tr th {\n",
       "        vertical-align: top;\n",
       "    }\n",
       "\n",
       "    .dataframe thead th {\n",
       "        text-align: right;\n",
       "    }\n",
       "</style>\n",
       "<table border=\"1\" class=\"dataframe\">\n",
       "  <thead>\n",
       "    <tr style=\"text-align: right;\">\n",
       "      <th></th>\n",
       "      <th>AB</th>\n",
       "      <th>AF</th>\n",
       "      <th>AH</th>\n",
       "      <th>AM</th>\n",
       "      <th>AR</th>\n",
       "      <th>AX</th>\n",
       "      <th>AY</th>\n",
       "      <th>AZ</th>\n",
       "      <th>BC</th>\n",
       "      <th>BD</th>\n",
       "      <th>...</th>\n",
       "      <th>FR</th>\n",
       "      <th>FS</th>\n",
       "      <th>GB</th>\n",
       "      <th>GE</th>\n",
       "      <th>GF</th>\n",
       "      <th>GH</th>\n",
       "      <th>GI</th>\n",
       "      <th>GL</th>\n",
       "      <th>Alpha</th>\n",
       "      <th>Class</th>\n",
       "    </tr>\n",
       "  </thead>\n",
       "  <tbody>\n",
       "    <tr>\n",
       "      <th>0</th>\n",
       "      <td>0.209377</td>\n",
       "      <td>3109.03329</td>\n",
       "      <td>85.200147</td>\n",
       "      <td>22.394407</td>\n",
       "      <td>8.138688</td>\n",
       "      <td>0.699861</td>\n",
       "      <td>0.025578</td>\n",
       "      <td>9.812214</td>\n",
       "      <td>5.555634</td>\n",
       "      <td>4126.58731</td>\n",
       "      <td>...</td>\n",
       "      <td>1.73855</td>\n",
       "      <td>0.094822</td>\n",
       "      <td>11.339138</td>\n",
       "      <td>72.611063</td>\n",
       "      <td>2003.810319</td>\n",
       "      <td>22.136229</td>\n",
       "      <td>69.834944</td>\n",
       "      <td>0.120343</td>\n",
       "      <td>B</td>\n",
       "      <td>1</td>\n",
       "    </tr>\n",
       "    <tr>\n",
       "      <th>1</th>\n",
       "      <td>0.145282</td>\n",
       "      <td>978.76416</td>\n",
       "      <td>85.200147</td>\n",
       "      <td>36.968889</td>\n",
       "      <td>8.138688</td>\n",
       "      <td>3.632190</td>\n",
       "      <td>0.025578</td>\n",
       "      <td>13.517790</td>\n",
       "      <td>1.229900</td>\n",
       "      <td>5496.92824</td>\n",
       "      <td>...</td>\n",
       "      <td>0.49706</td>\n",
       "      <td>0.568932</td>\n",
       "      <td>9.292698</td>\n",
       "      <td>72.611063</td>\n",
       "      <td>27981.562750</td>\n",
       "      <td>29.135430</td>\n",
       "      <td>32.131996</td>\n",
       "      <td>21.978000</td>\n",
       "      <td>A</td>\n",
       "      <td>0</td>\n",
       "    </tr>\n",
       "    <tr>\n",
       "      <th>2</th>\n",
       "      <td>0.470030</td>\n",
       "      <td>2635.10654</td>\n",
       "      <td>85.200147</td>\n",
       "      <td>32.360553</td>\n",
       "      <td>8.138688</td>\n",
       "      <td>6.732840</td>\n",
       "      <td>0.025578</td>\n",
       "      <td>12.824570</td>\n",
       "      <td>1.229900</td>\n",
       "      <td>5135.78024</td>\n",
       "      <td>...</td>\n",
       "      <td>0.97556</td>\n",
       "      <td>1.198821</td>\n",
       "      <td>37.077772</td>\n",
       "      <td>88.609437</td>\n",
       "      <td>13676.957810</td>\n",
       "      <td>28.022851</td>\n",
       "      <td>35.192676</td>\n",
       "      <td>0.196941</td>\n",
       "      <td>A</td>\n",
       "      <td>0</td>\n",
       "    </tr>\n",
       "    <tr>\n",
       "      <th>3</th>\n",
       "      <td>0.252107</td>\n",
       "      <td>3819.65177</td>\n",
       "      <td>120.201618</td>\n",
       "      <td>77.112203</td>\n",
       "      <td>8.138688</td>\n",
       "      <td>3.685344</td>\n",
       "      <td>0.025578</td>\n",
       "      <td>11.053708</td>\n",
       "      <td>1.229900</td>\n",
       "      <td>4169.67738</td>\n",
       "      <td>...</td>\n",
       "      <td>0.49706</td>\n",
       "      <td>0.284466</td>\n",
       "      <td>18.529584</td>\n",
       "      <td>82.416803</td>\n",
       "      <td>2094.262452</td>\n",
       "      <td>39.948656</td>\n",
       "      <td>90.493248</td>\n",
       "      <td>0.155829</td>\n",
       "      <td>A</td>\n",
       "      <td>0</td>\n",
       "    </tr>\n",
       "    <tr>\n",
       "      <th>4</th>\n",
       "      <td>0.380297</td>\n",
       "      <td>3733.04844</td>\n",
       "      <td>85.200147</td>\n",
       "      <td>14.103738</td>\n",
       "      <td>8.138688</td>\n",
       "      <td>3.942255</td>\n",
       "      <td>0.054810</td>\n",
       "      <td>3.396778</td>\n",
       "      <td>102.151980</td>\n",
       "      <td>5728.73412</td>\n",
       "      <td>...</td>\n",
       "      <td>48.50134</td>\n",
       "      <td>0.121914</td>\n",
       "      <td>16.408728</td>\n",
       "      <td>146.109943</td>\n",
       "      <td>8524.370502</td>\n",
       "      <td>45.381316</td>\n",
       "      <td>36.262628</td>\n",
       "      <td>0.096614</td>\n",
       "      <td>D</td>\n",
       "      <td>1</td>\n",
       "    </tr>\n",
       "  </tbody>\n",
       "</table>\n",
       "<p>5 rows × 58 columns</p>\n",
       "</div>"
      ],
      "text/plain": [
       "         AB          AF          AH         AM        AR        AX        AY   \n",
       "0  0.209377  3109.03329   85.200147  22.394407  8.138688  0.699861  0.025578  \\\n",
       "1  0.145282   978.76416   85.200147  36.968889  8.138688  3.632190  0.025578   \n",
       "2  0.470030  2635.10654   85.200147  32.360553  8.138688  6.732840  0.025578   \n",
       "3  0.252107  3819.65177  120.201618  77.112203  8.138688  3.685344  0.025578   \n",
       "4  0.380297  3733.04844   85.200147  14.103738  8.138688  3.942255  0.054810   \n",
       "\n",
       "          AZ          BC         BD   ...        FR        FS         GB   \n",
       "0   9.812214    5.555634  4126.58731  ...   1.73855  0.094822  11.339138  \\\n",
       "1  13.517790    1.229900  5496.92824  ...   0.49706  0.568932   9.292698   \n",
       "2  12.824570    1.229900  5135.78024  ...   0.97556  1.198821  37.077772   \n",
       "3  11.053708    1.229900  4169.67738  ...   0.49706  0.284466  18.529584   \n",
       "4   3.396778  102.151980  5728.73412  ...  48.50134  0.121914  16.408728   \n",
       "\n",
       "           GE            GF         GH         GI         GL  Alpha  Class  \n",
       "0   72.611063   2003.810319  22.136229  69.834944   0.120343      B      1  \n",
       "1   72.611063  27981.562750  29.135430  32.131996  21.978000      A      0  \n",
       "2   88.609437  13676.957810  28.022851  35.192676   0.196941      A      0  \n",
       "3   82.416803   2094.262452  39.948656  90.493248   0.155829      A      0  \n",
       "4  146.109943   8524.370502  45.381316  36.262628   0.096614      D      1  \n",
       "\n",
       "[5 rows x 58 columns]"
      ]
     },
     "execution_count": 477,
     "metadata": {},
     "output_type": "execute_result"
    }
   ],
   "source": [
    "pd.DataFrame(train_data.take(5), columns=train_data.columns).head(5)\n",
    "\n"
   ]
  },
  {
   "cell_type": "code",
   "execution_count": 478,
   "id": "f4cee069-e483-44d5-afd7-0b203afdc26e",
   "metadata": {
    "tags": []
   },
   "outputs": [],
   "source": [
    "filtered_test=['AB', 'AF', 'AH', 'AM', 'AR', 'AX',\n",
    "               'AY', 'AZ', 'BC', 'BD ', 'BN', 'BP', 'BQ', \n",
    "               'BR', 'BZ', 'CB', 'CC', 'CD ', 'CF', 'CH',\n",
    "               'CL', 'CR', 'CS', 'CU', 'CW ', 'DA', 'DE',\n",
    "               'DF', 'DH', 'DI', 'DL', 'DN', 'DU', 'DV', \n",
    "               'DY', 'EB', 'EE', 'EG', 'EH', 'EJ', 'EL',\n",
    "               'EP', 'EU', 'FC', 'FD ', 'FE', 'FI', 'FL',\n",
    "               'FR', 'FS', 'GB', 'GE', 'GF', 'GH', 'GI', \n",
    "               'GL'] + [col  for  col  in  test_data.columns if col.startswith(\"Alpha\")]\n",
    "test_data = test_data_and_metadata.select(*filtered_test)"
   ]
  },
  {
   "cell_type": "markdown",
   "id": "31b1c597-25ce-43ed-9c44-f1ecb8a8735c",
   "metadata": {
    "tags": []
   },
   "source": [
    "# Data cleaning and pre processing\n",
    "> In this section we will check for null values in the dataset,and drop such rows if they exist\n",
    "\n",
    "> Also in the schema description of train_data_with_metadata\n",
    "we saw that alpha column is a string we have to convert it into numeric using using StringIndexer"
   ]
  },
  {
   "cell_type": "code",
   "execution_count": 479,
   "id": "a01ef66b-7520-4651-bc2b-2165a2e89643",
   "metadata": {
    "tags": []
   },
   "outputs": [],
   "source": [
    "train_data = train_data.dropna()"
   ]
  },
  {
   "cell_type": "markdown",
   "id": "5dae840b-f1d1-48a1-b987-aadaedb8eb7a",
   "metadata": {},
   "source": [
    "__Preprocess the categorical feature \"Alpha\" and \"EJ\" using StringIndexer__"
   ]
  },
  {
   "cell_type": "code",
   "execution_count": 480,
   "id": "34913475-d74b-41fe-8ccd-8ba0c00978ed",
   "metadata": {
    "tags": []
   },
   "outputs": [],
   "source": [
    "# Delete the AlphaIndex column\n",
    "train_data = train_data.drop(\"Alpha_index\")\n",
    "train_data = train_data.drop(\"EJ_index\")\n"
   ]
  },
  {
   "cell_type": "code",
   "execution_count": 481,
   "id": "0e4ef7bc-ec56-4ba8-9677-4346d9cdf255",
   "metadata": {
    "tags": []
   },
   "outputs": [],
   "source": [
    "indexer_ej = StringIndexer(inputCol=\"EJ\", outputCol=\"EJ_index\").setHandleInvalid(\"keep\")\n",
    "indexer_alpha = StringIndexer(inputCol=\"Alpha\", outputCol=\"Alpha_index\").setHandleInvalid(\"keep\")\n",
    "\n",
    "\n",
    "train_data = indexer_ej.fit(train_data).transform(train_data)\n",
    "train_data = indexer_alpha.fit(train_data).transform(train_data)\n"
   ]
  },
  {
   "cell_type": "code",
   "execution_count": 482,
   "id": "e5452fd6-9520-45b9-acb0-1919afb4931b",
   "metadata": {
    "tags": []
   },
   "outputs": [
    {
     "data": {
      "text/html": [
       "<div>\n",
       "<style scoped>\n",
       "    .dataframe tbody tr th:only-of-type {\n",
       "        vertical-align: middle;\n",
       "    }\n",
       "\n",
       "    .dataframe tbody tr th {\n",
       "        vertical-align: top;\n",
       "    }\n",
       "\n",
       "    .dataframe thead th {\n",
       "        text-align: right;\n",
       "    }\n",
       "</style>\n",
       "<table border=\"1\" class=\"dataframe\">\n",
       "  <thead>\n",
       "    <tr style=\"text-align: right;\">\n",
       "      <th></th>\n",
       "      <th>AB</th>\n",
       "      <th>AF</th>\n",
       "      <th>AH</th>\n",
       "      <th>AM</th>\n",
       "      <th>AR</th>\n",
       "      <th>AX</th>\n",
       "      <th>AY</th>\n",
       "      <th>AZ</th>\n",
       "      <th>BC</th>\n",
       "      <th>BD</th>\n",
       "      <th>...</th>\n",
       "      <th>GB</th>\n",
       "      <th>GE</th>\n",
       "      <th>GF</th>\n",
       "      <th>GH</th>\n",
       "      <th>GI</th>\n",
       "      <th>GL</th>\n",
       "      <th>Alpha</th>\n",
       "      <th>Class</th>\n",
       "      <th>EJ_index</th>\n",
       "      <th>Alpha_index</th>\n",
       "    </tr>\n",
       "  </thead>\n",
       "  <tbody>\n",
       "    <tr>\n",
       "      <th>0</th>\n",
       "      <td>0.209377</td>\n",
       "      <td>3109.03329</td>\n",
       "      <td>85.200147</td>\n",
       "      <td>22.394407</td>\n",
       "      <td>8.138688</td>\n",
       "      <td>0.699861</td>\n",
       "      <td>0.025578</td>\n",
       "      <td>9.812214</td>\n",
       "      <td>5.555634</td>\n",
       "      <td>4126.58731</td>\n",
       "      <td>...</td>\n",
       "      <td>11.339138</td>\n",
       "      <td>72.611063</td>\n",
       "      <td>2003.810319</td>\n",
       "      <td>22.136229</td>\n",
       "      <td>69.834944</td>\n",
       "      <td>0.120343</td>\n",
       "      <td>B</td>\n",
       "      <td>1</td>\n",
       "      <td>0.0</td>\n",
       "      <td>1.0</td>\n",
       "    </tr>\n",
       "    <tr>\n",
       "      <th>1</th>\n",
       "      <td>0.145282</td>\n",
       "      <td>978.76416</td>\n",
       "      <td>85.200147</td>\n",
       "      <td>36.968889</td>\n",
       "      <td>8.138688</td>\n",
       "      <td>3.632190</td>\n",
       "      <td>0.025578</td>\n",
       "      <td>13.517790</td>\n",
       "      <td>1.229900</td>\n",
       "      <td>5496.92824</td>\n",
       "      <td>...</td>\n",
       "      <td>9.292698</td>\n",
       "      <td>72.611063</td>\n",
       "      <td>27981.562750</td>\n",
       "      <td>29.135430</td>\n",
       "      <td>32.131996</td>\n",
       "      <td>21.978000</td>\n",
       "      <td>A</td>\n",
       "      <td>0</td>\n",
       "      <td>1.0</td>\n",
       "      <td>0.0</td>\n",
       "    </tr>\n",
       "    <tr>\n",
       "      <th>2</th>\n",
       "      <td>0.470030</td>\n",
       "      <td>2635.10654</td>\n",
       "      <td>85.200147</td>\n",
       "      <td>32.360553</td>\n",
       "      <td>8.138688</td>\n",
       "      <td>6.732840</td>\n",
       "      <td>0.025578</td>\n",
       "      <td>12.824570</td>\n",
       "      <td>1.229900</td>\n",
       "      <td>5135.78024</td>\n",
       "      <td>...</td>\n",
       "      <td>37.077772</td>\n",
       "      <td>88.609437</td>\n",
       "      <td>13676.957810</td>\n",
       "      <td>28.022851</td>\n",
       "      <td>35.192676</td>\n",
       "      <td>0.196941</td>\n",
       "      <td>A</td>\n",
       "      <td>0</td>\n",
       "      <td>0.0</td>\n",
       "      <td>0.0</td>\n",
       "    </tr>\n",
       "    <tr>\n",
       "      <th>3</th>\n",
       "      <td>0.252107</td>\n",
       "      <td>3819.65177</td>\n",
       "      <td>120.201618</td>\n",
       "      <td>77.112203</td>\n",
       "      <td>8.138688</td>\n",
       "      <td>3.685344</td>\n",
       "      <td>0.025578</td>\n",
       "      <td>11.053708</td>\n",
       "      <td>1.229900</td>\n",
       "      <td>4169.67738</td>\n",
       "      <td>...</td>\n",
       "      <td>18.529584</td>\n",
       "      <td>82.416803</td>\n",
       "      <td>2094.262452</td>\n",
       "      <td>39.948656</td>\n",
       "      <td>90.493248</td>\n",
       "      <td>0.155829</td>\n",
       "      <td>A</td>\n",
       "      <td>0</td>\n",
       "      <td>0.0</td>\n",
       "      <td>0.0</td>\n",
       "    </tr>\n",
       "    <tr>\n",
       "      <th>4</th>\n",
       "      <td>0.380297</td>\n",
       "      <td>3733.04844</td>\n",
       "      <td>85.200147</td>\n",
       "      <td>14.103738</td>\n",
       "      <td>8.138688</td>\n",
       "      <td>3.942255</td>\n",
       "      <td>0.054810</td>\n",
       "      <td>3.396778</td>\n",
       "      <td>102.151980</td>\n",
       "      <td>5728.73412</td>\n",
       "      <td>...</td>\n",
       "      <td>16.408728</td>\n",
       "      <td>146.109943</td>\n",
       "      <td>8524.370502</td>\n",
       "      <td>45.381316</td>\n",
       "      <td>36.262628</td>\n",
       "      <td>0.096614</td>\n",
       "      <td>D</td>\n",
       "      <td>1</td>\n",
       "      <td>0.0</td>\n",
       "      <td>3.0</td>\n",
       "    </tr>\n",
       "  </tbody>\n",
       "</table>\n",
       "<p>5 rows × 60 columns</p>\n",
       "</div>"
      ],
      "text/plain": [
       "         AB          AF          AH         AM        AR        AX        AY   \n",
       "0  0.209377  3109.03329   85.200147  22.394407  8.138688  0.699861  0.025578  \\\n",
       "1  0.145282   978.76416   85.200147  36.968889  8.138688  3.632190  0.025578   \n",
       "2  0.470030  2635.10654   85.200147  32.360553  8.138688  6.732840  0.025578   \n",
       "3  0.252107  3819.65177  120.201618  77.112203  8.138688  3.685344  0.025578   \n",
       "4  0.380297  3733.04844   85.200147  14.103738  8.138688  3.942255  0.054810   \n",
       "\n",
       "          AZ          BC         BD   ...         GB          GE   \n",
       "0   9.812214    5.555634  4126.58731  ...  11.339138   72.611063  \\\n",
       "1  13.517790    1.229900  5496.92824  ...   9.292698   72.611063   \n",
       "2  12.824570    1.229900  5135.78024  ...  37.077772   88.609437   \n",
       "3  11.053708    1.229900  4169.67738  ...  18.529584   82.416803   \n",
       "4   3.396778  102.151980  5728.73412  ...  16.408728  146.109943   \n",
       "\n",
       "             GF         GH         GI         GL  Alpha  Class  EJ_index   \n",
       "0   2003.810319  22.136229  69.834944   0.120343      B      1       0.0  \\\n",
       "1  27981.562750  29.135430  32.131996  21.978000      A      0       1.0   \n",
       "2  13676.957810  28.022851  35.192676   0.196941      A      0       0.0   \n",
       "3   2094.262452  39.948656  90.493248   0.155829      A      0       0.0   \n",
       "4   8524.370502  45.381316  36.262628   0.096614      D      1       0.0   \n",
       "\n",
       "   Alpha_index  \n",
       "0          1.0  \n",
       "1          0.0  \n",
       "2          0.0  \n",
       "3          0.0  \n",
       "4          3.0  \n",
       "\n",
       "[5 rows x 60 columns]"
      ]
     },
     "execution_count": 482,
     "metadata": {},
     "output_type": "execute_result"
    }
   ],
   "source": [
    "pd.DataFrame(train_data.take(5), columns=train_data.columns).head(5)"
   ]
  },
  {
   "cell_type": "markdown",
   "id": "f85dfebd-160a-44fc-b4d1-fa7beb85063f",
   "metadata": {},
   "source": [
    "# combine input features with VectorAssembler"
   ]
  },
  {
   "cell_type": "code",
   "execution_count": 483,
   "id": "bbb8de82-904d-453b-b6d7-208847ca5f43",
   "metadata": {
    "tags": []
   },
   "outputs": [],
   "source": [
    "assembler = VectorAssembler(inputCols=['AB', 'AF', 'AH', 'AM', 'AR', 'AX',\n",
    "               'AY', 'AZ', 'BC', 'BD ', 'BN', 'BP', 'BQ', \n",
    "               'BR', 'BZ', 'CB', 'CC', 'CD ', 'CF', 'CH',\n",
    "               'CL', 'CR', 'CS', 'CU', 'CW ', 'DA', 'DE',\n",
    "               'DF', 'DH', 'DI', 'DL', 'DN', 'DU', 'DV', \n",
    "               'DY', 'EB', 'EE', 'EG', 'EH', 'EL',\n",
    "               'EP', 'EU', 'FC', 'FD ', 'FE', 'FI', 'FL',\n",
    "               'FR', 'FS', 'GB', 'GE', 'GF', 'GH', 'GI', \n",
    "               'GL', \"EJ_index\",\"Alpha_index\"], outputCol=\"features\")"
   ]
  },
  {
   "cell_type": "code",
   "execution_count": 484,
   "id": "86fbab50-4ef1-43f3-a765-02fbadc5cb66",
   "metadata": {
    "tags": []
   },
   "outputs": [],
   "source": [
    "train_data = assembler.transform(train_data)"
   ]
  },
  {
   "cell_type": "markdown",
   "id": "bb74697c-b6fd-4bea-af49-9eb83a9d844a",
   "metadata": {},
   "source": [
    "# Split  the  data  into  training  and validation  sets"
   ]
  },
  {
   "cell_type": "code",
   "execution_count": 485,
   "id": "d180f79b-11dd-4073-989b-eade99fe3f7a",
   "metadata": {
    "tags": []
   },
   "outputs": [],
   "source": [
    "train_set, val_set = train_data.randomSplit([0.7, 0.3], seed=42)"
   ]
  },
  {
   "cell_type": "markdown",
   "id": "b1f539d3-0a4b-45cf-91b3-48d332d92849",
   "metadata": {},
   "source": [
    "__use Random forest  algorithm__"
   ]
  },
  {
   "cell_type": "code",
   "execution_count": 486,
   "id": "c2200da1-f732-4536-81df-fd0a17d8497e",
   "metadata": {
    "tags": []
   },
   "outputs": [],
   "source": [
    "rf = RandomForestClassifier(labelCol=\"Class\", featuresCol=\"features\", numTrees=100)\n",
    "model = rf.fit(train_set)"
   ]
  },
  {
   "cell_type": "markdown",
   "id": "903fa1cc-f473-4b60-9f43-ea8f98b5981d",
   "metadata": {
    "tags": []
   },
   "source": [
    "__Make prediction using the validation data_set__"
   ]
  },
  {
   "cell_type": "code",
   "execution_count": 487,
   "id": "ab2af957-1657-48bf-86f0-a20fcec75623",
   "metadata": {
    "tags": []
   },
   "outputs": [],
   "source": [
    "predictions = model.transform(val_set)"
   ]
  },
  {
   "cell_type": "code",
   "execution_count": 488,
   "id": "7c27087a-ad0e-4c05-98fb-c225a9668b6a",
   "metadata": {
    "tags": []
   },
   "outputs": [],
   "source": [
    "evaluator = BinaryClassificationEvaluator(labelCol=\"Class\")\n",
    "auc = evaluator.evaluate(predictions)"
   ]
  },
  {
   "cell_type": "markdown",
   "id": "b525c28f-80ec-483a-9ee7-0177599402d1",
   "metadata": {},
   "source": [
    "__Make predictions on the test data__"
   ]
  },
  {
   "cell_type": "code",
   "execution_count": 491,
   "id": "7a07a966-fe7d-4248-80ad-5a1e382e9cc1",
   "metadata": {
    "tags": []
   },
   "outputs": [
    {
     "ename": "AnalysisException",
     "evalue": "[UNRESOLVED_USING_COLUMN_FOR_JOIN] USING column `Id` cannot be resolved on the left side of the join. The left-side columns: [`AB`, `AF`, `AH`, `AM`, `AR`, `AX`, `AY`, `AZ`, `BC`, `BD `, `BN`, `BP`, `BQ`, `BR`, `BZ`, `CB`, `CC`, `CD `, `CF`, `CH`, `CL`, `CR`, `CS`, `CU`, `CW `, `DA`, `DE`, `DF`, `DH`, `DI`, `DL`, `DN`, `DU`, `DV`, `DY`, `EB`, `EE`, `EG`, `EH`, `EJ`, `EL`, `EP`, `EU`, `FC`, `FD `, `FE`, `FI`, `FL`, `FR`, `FS`, `GB`, `GE`, `GF`, `GH`, `GI`, `GL`].",
     "output_type": "error",
     "traceback": [
      "\u001b[0;31m---------------------------------------------------------------------------\u001b[0m",
      "\u001b[0;31mAnalysisException\u001b[0m                         Traceback (most recent call last)",
      "Cell \u001b[0;32mIn[491], line 1\u001b[0m\n\u001b[0;32m----> 1\u001b[0m test_data \u001b[38;5;241m=\u001b[39m \u001b[43mtest_data\u001b[49m\u001b[38;5;241;43m.\u001b[39;49m\u001b[43mjoin\u001b[49m\u001b[43m(\u001b[49m\u001b[43mgreeks_data\u001b[49m\u001b[43m,\u001b[49m\u001b[43m \u001b[49m\u001b[43mon\u001b[49m\u001b[38;5;241;43m=\u001b[39;49m\u001b[38;5;124;43m'\u001b[39;49m\u001b[38;5;124;43mId\u001b[39;49m\u001b[38;5;124;43m'\u001b[39;49m\u001b[43m,\u001b[49m\u001b[43m \u001b[49m\u001b[43mhow\u001b[49m\u001b[38;5;241;43m=\u001b[39;49m\u001b[38;5;124;43m\"\u001b[39;49m\u001b[38;5;124;43mleft\u001b[39;49m\u001b[38;5;124;43m\"\u001b[39;49m\u001b[43m)\u001b[49m\n",
      "File \u001b[0;32m/usr/local/spark/python/pyspark/sql/dataframe.py:2344\u001b[0m, in \u001b[0;36mDataFrame.join\u001b[0;34m(self, other, on, how)\u001b[0m\n\u001b[1;32m   2342\u001b[0m         on \u001b[38;5;241m=\u001b[39m \u001b[38;5;28mself\u001b[39m\u001b[38;5;241m.\u001b[39m_jseq([])\n\u001b[1;32m   2343\u001b[0m     \u001b[38;5;28;01massert\u001b[39;00m \u001b[38;5;28misinstance\u001b[39m(how, \u001b[38;5;28mstr\u001b[39m), \u001b[38;5;124m\"\u001b[39m\u001b[38;5;124mhow should be a string\u001b[39m\u001b[38;5;124m\"\u001b[39m\n\u001b[0;32m-> 2344\u001b[0m     jdf \u001b[38;5;241m=\u001b[39m \u001b[38;5;28;43mself\u001b[39;49m\u001b[38;5;241;43m.\u001b[39;49m\u001b[43m_jdf\u001b[49m\u001b[38;5;241;43m.\u001b[39;49m\u001b[43mjoin\u001b[49m\u001b[43m(\u001b[49m\u001b[43mother\u001b[49m\u001b[38;5;241;43m.\u001b[39;49m\u001b[43m_jdf\u001b[49m\u001b[43m,\u001b[49m\u001b[43m \u001b[49m\u001b[43mon\u001b[49m\u001b[43m,\u001b[49m\u001b[43m \u001b[49m\u001b[43mhow\u001b[49m\u001b[43m)\u001b[49m\n\u001b[1;32m   2345\u001b[0m \u001b[38;5;28;01mreturn\u001b[39;00m DataFrame(jdf, \u001b[38;5;28mself\u001b[39m\u001b[38;5;241m.\u001b[39msparkSession)\n",
      "File \u001b[0;32m/usr/local/spark/python/lib/py4j-0.10.9.7-src.zip/py4j/java_gateway.py:1322\u001b[0m, in \u001b[0;36mJavaMember.__call__\u001b[0;34m(self, *args)\u001b[0m\n\u001b[1;32m   1316\u001b[0m command \u001b[38;5;241m=\u001b[39m proto\u001b[38;5;241m.\u001b[39mCALL_COMMAND_NAME \u001b[38;5;241m+\u001b[39m\\\n\u001b[1;32m   1317\u001b[0m     \u001b[38;5;28mself\u001b[39m\u001b[38;5;241m.\u001b[39mcommand_header \u001b[38;5;241m+\u001b[39m\\\n\u001b[1;32m   1318\u001b[0m     args_command \u001b[38;5;241m+\u001b[39m\\\n\u001b[1;32m   1319\u001b[0m     proto\u001b[38;5;241m.\u001b[39mEND_COMMAND_PART\n\u001b[1;32m   1321\u001b[0m answer \u001b[38;5;241m=\u001b[39m \u001b[38;5;28mself\u001b[39m\u001b[38;5;241m.\u001b[39mgateway_client\u001b[38;5;241m.\u001b[39msend_command(command)\n\u001b[0;32m-> 1322\u001b[0m return_value \u001b[38;5;241m=\u001b[39m \u001b[43mget_return_value\u001b[49m\u001b[43m(\u001b[49m\n\u001b[1;32m   1323\u001b[0m \u001b[43m    \u001b[49m\u001b[43manswer\u001b[49m\u001b[43m,\u001b[49m\u001b[43m \u001b[49m\u001b[38;5;28;43mself\u001b[39;49m\u001b[38;5;241;43m.\u001b[39;49m\u001b[43mgateway_client\u001b[49m\u001b[43m,\u001b[49m\u001b[43m \u001b[49m\u001b[38;5;28;43mself\u001b[39;49m\u001b[38;5;241;43m.\u001b[39;49m\u001b[43mtarget_id\u001b[49m\u001b[43m,\u001b[49m\u001b[43m \u001b[49m\u001b[38;5;28;43mself\u001b[39;49m\u001b[38;5;241;43m.\u001b[39;49m\u001b[43mname\u001b[49m\u001b[43m)\u001b[49m\n\u001b[1;32m   1325\u001b[0m \u001b[38;5;28;01mfor\u001b[39;00m temp_arg \u001b[38;5;129;01min\u001b[39;00m temp_args:\n\u001b[1;32m   1326\u001b[0m     \u001b[38;5;28;01mif\u001b[39;00m \u001b[38;5;28mhasattr\u001b[39m(temp_arg, \u001b[38;5;124m\"\u001b[39m\u001b[38;5;124m_detach\u001b[39m\u001b[38;5;124m\"\u001b[39m):\n",
      "File \u001b[0;32m/usr/local/spark/python/pyspark/errors/exceptions/captured.py:175\u001b[0m, in \u001b[0;36mcapture_sql_exception.<locals>.deco\u001b[0;34m(*a, **kw)\u001b[0m\n\u001b[1;32m    171\u001b[0m converted \u001b[38;5;241m=\u001b[39m convert_exception(e\u001b[38;5;241m.\u001b[39mjava_exception)\n\u001b[1;32m    172\u001b[0m \u001b[38;5;28;01mif\u001b[39;00m \u001b[38;5;129;01mnot\u001b[39;00m \u001b[38;5;28misinstance\u001b[39m(converted, UnknownException):\n\u001b[1;32m    173\u001b[0m     \u001b[38;5;66;03m# Hide where the exception came from that shows a non-Pythonic\u001b[39;00m\n\u001b[1;32m    174\u001b[0m     \u001b[38;5;66;03m# JVM exception message.\u001b[39;00m\n\u001b[0;32m--> 175\u001b[0m     \u001b[38;5;28;01mraise\u001b[39;00m converted \u001b[38;5;28;01mfrom\u001b[39;00m \u001b[38;5;28;01mNone\u001b[39;00m\n\u001b[1;32m    176\u001b[0m \u001b[38;5;28;01melse\u001b[39;00m:\n\u001b[1;32m    177\u001b[0m     \u001b[38;5;28;01mraise\u001b[39;00m\n",
      "\u001b[0;31mAnalysisException\u001b[0m: [UNRESOLVED_USING_COLUMN_FOR_JOIN] USING column `Id` cannot be resolved on the left side of the join. The left-side columns: [`AB`, `AF`, `AH`, `AM`, `AR`, `AX`, `AY`, `AZ`, `BC`, `BD `, `BN`, `BP`, `BQ`, `BR`, `BZ`, `CB`, `CC`, `CD `, `CF`, `CH`, `CL`, `CR`, `CS`, `CU`, `CW `, `DA`, `DE`, `DF`, `DH`, `DI`, `DL`, `DN`, `DU`, `DV`, `DY`, `EB`, `EE`, `EG`, `EH`, `EJ`, `EL`, `EP`, `EU`, `FC`, `FD `, `FE`, `FI`, `FL`, `FR`, `FS`, `GB`, `GE`, `GF`, `GH`, `GI`, `GL`]."
     ]
    }
   ],
   "source": [
    "test_data = test_data.join(greeks_data, on='Id', how=\"left\")\n"
   ]
  },
  {
   "cell_type": "code",
   "execution_count": null,
   "id": "c3b9fcfb-4bcc-4972-91e7-8bb7506d41a2",
   "metadata": {},
   "outputs": [],
   "source": []
  }
 ],
 "metadata": {
  "kernelspec": {
   "display_name": "Python 3 (ipykernel)",
   "language": "python",
   "name": "python3"
  },
  "language_info": {
   "codemirror_mode": {
    "name": "ipython",
    "version": 3
   },
   "file_extension": ".py",
   "mimetype": "text/x-python",
   "name": "python",
   "nbconvert_exporter": "python",
   "pygments_lexer": "ipython3",
   "version": "3.10.10"
  }
 },
 "nbformat": 4,
 "nbformat_minor": 5
}
